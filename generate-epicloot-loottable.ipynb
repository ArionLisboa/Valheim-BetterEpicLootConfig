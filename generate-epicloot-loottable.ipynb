{
 "cells": [
  {
   "cell_type": "code",
   "execution_count": 1,
   "id": "e491557c",
   "metadata": {},
   "outputs": [],
   "source": [
    "import jsonc"
   ]
  },
  {
   "cell_type": "code",
   "execution_count": 2,
   "id": "a51e3780",
   "metadata": {},
   "outputs": [],
   "source": [
    "original = \"loottables_original.json\""
   ]
  },
  {
   "cell_type": "code",
   "execution_count": 23,
   "id": "f8817aa6",
   "metadata": {},
   "outputs": [],
   "source": [
    "with open(original, \"r\") as file:\n",
    "    loottable_dict = jsonc.load(file)"
   ]
  },
  {
   "cell_type": "code",
   "execution_count": 6,
   "id": "7496a08b",
   "metadata": {},
   "outputs": [
    {
     "name": "stdout",
     "output_type": "stream",
     "text": [
      "MagicEffectsCount\n",
      "RestrictedItems\n",
      "ItemSets\n",
      "LootTables\n"
     ]
    }
   ],
   "source": [
    "for key in loottable_dict:\n",
    "    print(key)"
   ]
  },
  {
   "cell_type": "markdown",
   "id": "6aa39700",
   "metadata": {},
   "source": [
    "## MagicEffectsCount Functions\n",
    "### Functions that change the ammount, and it's associated probability, of enchantments"
   ]
  },
  {
   "cell_type": "code",
   "execution_count": 4,
   "id": "0ece4d86",
   "metadata": {},
   "outputs": [],
   "source": [
    "def increase_enchant_count(n):\n",
    "    \"\"\"\n",
    "    Increases all magic effects count by n.\n",
    "    Changes probabilities only indirectly.\n",
    "    \"\"\"\n",
    "    print(\"########################## BEFORE ###########################\")\n",
    "    for rarity, probabilities in loottable_dict[\"MagicEffectsCount\"].items():\n",
    "        print(f\"\\t  {rarity}: \\t{probabilities}\")\n",
    "        for i in range(len(probabilities)):\n",
    "            probabilities[i][0] += 1\n",
    "    \n",
    "    print(\"########################## AFTER ###########################\")\n",
    "    for rarity, probabilities in loottable_dict[\"MagicEffectsCount\"].items():\n",
    "        print(f\"\\t  {rarity}: \\t{probabilities}\")\n",
    "    \n",
    "    print(\"############################################################\")\n",
    "    print(\"##################### INCREASE COUNT #######################\")\n",
    "    print(\"############################################################\")\n",
    "    print()\n",
    "    print()\n",
    "    return 1\n",
    "\n",
    "def modify_probabilities(p):\n",
    "    \"\"\"\n",
    "    Takes p away from the first entry and adds 2*p/3 and p/3 to the second and last entry, respectively\n",
    "    \"\"\"\n",
    "    print(\"########################## BEFORE ###########################\")\n",
    "    for rarity, probabilities in loottable_dict[\"MagicEffectsCount\"].items():\n",
    "        print(f\"\\t  {rarity}: \\t{probabilities}\")\n",
    "        probabilities[0][1] -= p\n",
    "        probabilities[1][1] += (p//3) * 2\n",
    "        probabilities[2][1] = 100 - probabilities[0][1] - probabilities[1][1]\n",
    "    \n",
    "    print(\"########################## AFTER ###########################\")\n",
    "    for rarity, probabilities in loottable_dict[\"MagicEffectsCount\"].items():\n",
    "        print(f\"\\t  {rarity}: \\t{probabilities}\")\n",
    "    \n",
    "    print(\"############################################################\")\n",
    "    print(\"################### MODIFY PROBABILITIES ###################\")\n",
    "    print(\"############################################################\")\n",
    "    print()\n",
    "    print()\n",
    "    return 1"
   ]
  },
  {
   "cell_type": "markdown",
   "id": "46fae20d",
   "metadata": {},
   "source": [
    "## ItemSets Functions\n",
    "### Functions that create/delete item sets"
   ]
  },
  {
   "cell_type": "markdown",
   "id": "efcf586a",
   "metadata": {},
   "source": [
    "###### Note: EpicLoot provides a setting to determine the item-to-material drop ratio. The only provided function to change item sets in this code aims to improve configuration in case you are running CLLC and want only materials dropping. In such cases, utilising solely the EpicLoot configuration, I was met with bosses trophies drop not scaling with starts. The solution was to manually change the loottables.json file."
   ]
  },
  {
   "cell_type": "code",
   "execution_count": 5,
   "id": "f509f410",
   "metadata": {},
   "outputs": [],
   "source": [
    "def only_enchanting_mats():\n",
    "    \"\"\"\n",
    "    Deletes all item sets that don't include enchanting mats\n",
    "    \"\"\"\n",
    "    item_set_index = 0\n",
    "    while item_set_index < len(loottable_dict[\"ItemSets\"]):\n",
    "        item_set = loottable_dict[\"ItemSets\"][item_set_index]\n",
    "        #print(item_set[\"Name\"], [char_seq in item_set[\"Name\"] for char_seq in [\"Mats\", \"Runestone\"]])\n",
    "        if not any([char_seq in item_set[\"Name\"] for char_seq in [\"Mats\", \"Runestone\"]]):\n",
    "            print(item_set[\"Name\"], \"Deleted\")\n",
    "            loottable_dict[\"ItemSets\"].pop(item_set_index)\n",
    "        else:\n",
    "            item_set_index += 1"
   ]
  },
  {
   "cell_type": "markdown",
   "id": "1df5f12c",
   "metadata": {},
   "source": [
    "## Non-vanilla mobs"
   ]
  },
  {
   "cell_type": "code",
   "execution_count": 31,
   "id": "e9648a33",
   "metadata": {},
   "outputs": [],
   "source": [
    "def add_mob_objects():\n",
    "    \"\"\"\n",
    "    Creates mob objects for all mob ids added in the mobs_additions.txt file, each with their\n",
    "    respective tier, also defined in the file\n",
    "    \"\"\"\n",
    "    with open(\"mobs_additions.txt\", \"r\") as mobs_file:\n",
    "        for line in mobs_file:\n",
    "            PRESENT = False\n",
    "            if line[0] == \"#\" or line == \"\\n\":\n",
    "                continue\n",
    "            mob_id, tier = line.replace(\"\\n\", \"\").split()\n",
    "            for obj in  loottable_dict[\"LootTables\"]:\n",
    "                if mob_id == obj[\"Object\"]:\n",
    "                    PRESENT = True\n",
    "                    break\n",
    "            if PRESENT:\n",
    "                print(f\"{mob_id}{(20-len(mob_id)) * ' '}\\t{tier}\" + f\"{10 * ' '}\" + \"ALREADY ADDED\")\n",
    "                continue\n",
    "            print(f\"{mob_id}{(20-len(mob_id)) * ' '}\\t{tier}\", end=\" \")\n",
    "            mob_obj = {}\n",
    "            mob_obj[\"Object\"] = mob_id\n",
    "            mob_obj[\"RefObject\"] = f\"Tier{tier}Mob\"\n",
    "            loottable_dict[\"LootTables\"].insert(8, mob_obj)\n",
    "            print(mob_obj, f\"{(65-len(str(mob_obj))) * ' '}ADDED\")"
   ]
  },
  {
   "cell_type": "code",
   "execution_count": 32,
   "id": "3b7d10be",
   "metadata": {},
   "outputs": [
    {
     "name": "stdout",
     "output_type": "stream",
     "text": [
      "Fox_TW              \t0          ALREADY ADDED\n",
      "Razorback_TW        \t0          ALREADY ADDED\n",
      "BlackBear_TW        \t1          ALREADY ADDED\n",
      "GDAncientShaman_TW  \t1          ALREADY ADDED\n",
      "Crawler_TW          \t2          ALREADY ADDED\n",
      "HelWraith_TW        \t2          ALREADY ADDED\n",
      "RottingElk_TW       \t3          ALREADY ADDED\n",
      "GrizzlyBear_TW      \t3          ALREADY ADDED\n",
      "ObsidianGolem_TW    \t4          ALREADY ADDED\n",
      "Prowler_TW          \t4          ALREADY ADDED\n"
     ]
    }
   ],
   "source": [
    "add_mob_objects()"
   ]
  },
  {
   "cell_type": "markdown",
   "id": "1c728494",
   "metadata": {},
   "source": [
    "## Generate Mob Loot Tables\n",
    "### Functions to generate the loot tables for mob tiers and bosses"
   ]
  },
  {
   "cell_type": "code",
   "execution_count": 37,
   "id": "9ca845c9",
   "metadata": {},
   "outputs": [
    {
     "name": "stdout",
     "output_type": "stream",
     "text": [
      "[{'Level': 1, 'Drops': [[0, 100]], 'Loot': [{'Item': 'Tier0Everything', 'Weight': 1, 'Rarity': [100, 0, 0, 0]}]}, {'Level': 2, 'Drops': [[0, 95], [1, 5]], 'Loot': [{'Item': 'Tier0Everything', 'Weight': 1, 'Rarity': [95, 5, 0, 0]}]}, {'Level': 3, 'Drops': [[0, 90], [1, 10]], 'Loot': [{'Item': 'Tier0Everything', 'Weight': 1, 'Rarity': [90, 10, 0, 0]}]}, {'Level': 4, 'Drops': [[0, 80], [1, 20]], 'Loot': [{'Item': 'Tier0Everything', 'Weight': 1, 'Rarity': [80, 15, 5, 0]}]}, {'Level': 5, 'Drops': [[0, 70], [1, 30]], 'Loot': [{'Item': 'Tier0Everything', 'Weight': 1, 'Rarity': [70, 19, 10, 1]}]}, {'Level': 6, 'Drops': [[0, 60], [1, 39], [2, 1]], 'Loot': [{'Item': 'Tier0Everything', 'Weight': 1, 'Rarity': [60, 20, 15, 5]}]}, {'Level': 7, 'Drops': [[0, 60], [1, 39], [2, 1]], 'Loot': [{'Item': 'Tier0Everything', 'Weight': 1, 'Rarity': [60, 20, 15, 5]}]}, {'Level': 8, 'Drops': [[0, 60], [1, 39], [2, 1]], 'Loot': [{'Item': 'Tier0Everything', 'Weight': 1, 'Rarity': [60, 20, 15, 5]}]}]\n"
     ]
    }
   ],
   "source": [
    "for b in loottable_dict[\"LootTables\"][:1]:\n",
    "    print(b[\"LeveledLoot\"])"
   ]
  },
  {
   "cell_type": "code",
   "execution_count": 40,
   "id": "9320ebea",
   "metadata": {
    "scrolled": true
   },
   "outputs": [
    {
     "name": "stdout",
     "output_type": "stream",
     "text": [
      "['Tier0Mob', 'Tier1Mob', 'Tier2Mob', 'Tier3Mob', 'Tier4Mob', 'Tier5Mob', 'Tier6Mob', 'Tier7Mob']\n"
     ]
    }
   ],
   "source": [
    "tiers = set()\n",
    "for obj in loottable_dict[\"LootTables\"]:\n",
    "    if \"RefObject\" in obj.keys():\n",
    "        tiers.add(obj[\"RefObject\"])\n",
    "tiers = list(tiers)\n",
    "tiers.sort()\n",
    "print(tiers)"
   ]
  },
  {
   "cell_type": "code",
   "execution_count": 294,
   "id": "7d7ec395",
   "metadata": {},
   "outputs": [],
   "source": [
    "import numpy as np\n",
    "\n",
    "def aux_calc(level, tier):\n",
    "    if tier == 0:\n",
    "        tier += 1\n",
    "    return int(np.log2(tier)*1.4) + int(np.log2(level)*1.9) + 1\n",
    "\n",
    "def prob_calc(total_prob, tier, level, count):\n",
    "    try:\n",
    "        ret_val = pow(tier+1, 0.1) * abs ( total_prob // (level) )\n",
    "        return int ( ret_val )\n",
    "    except ZeroDivisionError:\n",
    "        ret_val = pow(tier+1, 0.1) * abs ( total_prob // (level + 1) )\n",
    "        return int ( ret_val )\n",
    "\n",
    "\n",
    "def generate_mobs_loot_tables(max_star):\n",
    "    \"\"\"\n",
    "    Generate the loot tables for each mob tier based on the maximum starts fro mobs\n",
    "    \"\"\"\n",
    "    for tier in tiers:\n",
    "        tier_num = int(tier[4])\n",
    "        print(f\"TIER {tier}\")\n",
    "        leveled_loot = []\n",
    "        for level in range(1, max_star+1):\n",
    "            drops = []\n",
    "            loot = []\n",
    "            print(\"level\", level, end=\": \")\n",
    "            start_drop_count = max(0, aux_calc(level, tier_num)-2)\n",
    "            stop_drop_count = aux_calc(level, tier_num)+1\n",
    "            total_probability = 100\n",
    "            i = 0\n",
    "            for drop_count in range(start_drop_count, stop_drop_count):      \n",
    "                probability = prob_calc(total_probability, tier_num, level, drop_count - start_drop_count)\n",
    "                total_probability -= probability\n",
    "                if total_probability < 0:\n",
    "                    probability += total_probability\n",
    "                drops.append([drop_count, probability])\n",
    "                print(f\"{drops[i]}\", end=\" \")\n",
    "                i += 1\n",
    "            print(f\"<{total_probability}>\", end=\"    \")\n",
    "            print()\n",
    "        print()"
   ]
  },
  {
   "cell_type": "code",
   "execution_count": 295,
   "id": "2d87f8f5",
   "metadata": {
    "scrolled": true
   },
   "outputs": [
    {
     "name": "stdout",
     "output_type": "stream",
     "text": [
      "TIER Tier0Mob\n",
      "level 1: [0, 100] [1, 0] <0>    \n",
      "level 2: [0, 50] [1, 25] [2, 12] <13>    \n",
      "level 3: [2, 33] [3, 22] [4, 15] <30>    \n",
      "level 4: [2, 25] [3, 18] [4, 14] <43>    \n",
      "level 5: [3, 20] [4, 16] [5, 12] <52>    \n",
      "level 6: [3, 16] [4, 14] [5, 11] <59>    \n",
      "level 7: [4, 14] [5, 12] [6, 10] <64>    \n",
      "level 8: [4, 12] [5, 11] [6, 9] <68>    \n",
      "\n",
      "TIER Tier1Mob\n",
      "level 1: [0, 100] [1, -7] <-14>    \n",
      "level 2: [0, 53] [1, 24] [2, 11] <12>    \n",
      "level 3: [2, 35] [3, 22] [4, 15] <28>    \n",
      "level 4: [2, 26] [3, 19] [4, 13] <42>    \n",
      "level 5: [3, 21] [4, 16] [5, 12] <51>    \n",
      "level 6: [3, 17] [4, 13] [5, 11] <59>    \n",
      "level 7: [4, 15] [5, 12] [6, 10] <63>    \n",
      "level 8: [4, 12] [5, 11] [6, 9] <68>    \n",
      "\n",
      "TIER Tier2Mob\n",
      "level 1: [0, 100] [1, -11] [2, -23] <-48>    \n",
      "level 2: [1, 55] [2, 24] [3, 11] <10>    \n",
      "level 3: [3, 36] [4, 23] [5, 14] <27>    \n",
      "level 4: [3, 27] [4, 20] [5, 14] <39>    \n",
      "level 5: [4, 22] [5, 16] [6, 13] <49>    \n",
      "level 6: [4, 17] [5, 14] [6, 12] <57>    \n",
      "level 7: [5, 15] [6, 13] [7, 11] <61>    \n",
      "level 8: [5, 13] [6, 11] [7, 10] <66>    \n",
      "\n",
      "TIER Tier3Mob\n",
      "level 1: [1, 100] [2, -14] [3, -30] <-64>    \n",
      "level 2: [2, 57] [3, 24] [4, 10] <9>    \n",
      "level 3: [4, 37] [5, 24] [6, 14] <25>    \n",
      "level 4: [4, 28] [5, 20] [6, 14] <38>    \n",
      "level 5: [5, 22] [6, 17] [7, 13] <48>    \n",
      "level 6: [5, 18] [6, 14] [7, 12] <56>    \n",
      "level 7: [6, 16] [7, 13] [8, 11] <60>    \n",
      "level 8: [6, 13] [7, 11] [8, 10] <66>    \n",
      "\n",
      "TIER Tier4Mob\n",
      "level 1: [1, 100] [2, -17] [3, -36] <-78>    \n",
      "level 2: [2, 58] [3, 24] [4, 10] <8>    \n",
      "level 3: [4, 38] [5, 23] [6, 15] <24>    \n",
      "level 4: [4, 29] [5, 19] [6, 15] <37>    \n",
      "level 5: [5, 23] [6, 17] [7, 14] <46>    \n",
      "level 6: [5, 18] [6, 15] [7, 12] <55>    \n",
      "level 7: [6, 16] [7, 14] [8, 11] <59>    \n",
      "level 8: [6, 14] [7, 11] [8, 10] <65>    \n",
      "\n",
      "TIER Tier5Mob\n",
      "level 1: [2, 100] [3, -19] [4, -41] <-90>    \n",
      "level 2: [3, 59] [4, 23] [5, 10] <8>    \n",
      "level 3: [5, 39] [6, 23] [7, 14] <24>    \n",
      "level 4: [5, 29] [6, 20] [7, 14] <37>    \n",
      "level 5: [6, 23] [7, 17] [8, 14] <46>    \n",
      "level 6: [6, 19] [7, 15] [8, 13] <53>    \n",
      "level 7: [7, 16] [8, 14] [9, 11] <59>    \n",
      "level 8: [7, 14] [8, 11] [9, 10] <65>    \n",
      "\n",
      "TIER Tier6Mob\n",
      "level 1: [2, 100] [3, -21] [4, -46] <-101>    \n",
      "level 2: [3, 60] [4, 24] [5, 9] <7>    \n",
      "level 3: [5, 40] [6, 24] [7, 14] <22>    \n",
      "level 4: [5, 30] [6, 20] [7, 14] <36>    \n",
      "level 5: [6, 24] [7, 18] [8, 13] <45>    \n",
      "level 6: [6, 19] [7, 15] [8, 13] <53>    \n",
      "level 7: [7, 17] [8, 13] [9, 12] <58>    \n",
      "level 8: [7, 14] [8, 12] [9, 10] <64>    \n",
      "\n",
      "TIER Tier7Mob\n",
      "level 1: [2, 100] [3, -23] [4, -51] <-113>    \n",
      "level 2: [3, 61] [4, 23] [5, 9] <7>    \n",
      "level 3: [5, 40] [6, 24] [7, 14] <22>    \n",
      "level 4: [5, 30] [6, 20] [7, 14] <36>    \n",
      "level 5: [6, 24] [7, 18] [8, 13] <45>    \n",
      "level 6: [6, 19] [7, 16] [8, 12] <53>    \n",
      "level 7: [7, 17] [8, 13] [9, 12] <58>    \n",
      "level 8: [7, 14] [8, 12] [9, 11] <63>    \n",
      "\n"
     ]
    }
   ],
   "source": [
    "generate_mobs_loot_tables(8)"
   ]
  },
  {
   "cell_type": "code",
   "execution_count": 289,
   "id": "9d66778b",
   "metadata": {},
   "outputs": [
    {
     "name": "stdout",
     "output_type": "stream",
     "text": [
      "level 1: 0 (7)  1 (6)  <87>\n",
      "level 2: 0 (7)  1 (6)  2 (5)  <82>\n",
      "level 3: 2 (8)  3 (7)  4 (6)  <79>\n",
      "level 4: 2 (9)  3 (7)  4 (6)  <78>\n",
      "level 5: 3 (10)  4 (8)  5 (6)  <76>\n",
      "level 6: 3 (11)  4 (8)  5 (7)  <74>\n",
      "level 7: 4 (12)  5 (9)  6 (7)  <72>\n",
      "level 8: 4 (14)  5 (10)  6 (8)  <68>\n"
     ]
    }
   ],
   "source": [
    "def prob_calc(total_prob, tier, level, count):\n",
    "    try:\n",
    "        return abs ( total_prob // (15 - level + count) )\n",
    "    except ZeroDivisionError:\n",
    "        return abs ( total_prob // (14 - level + count) )\n",
    "    \n",
    "    \n",
    "tier_num = int(tiers[1][4])\n",
    "for level in range(1, 9):\n",
    "    print(\"level\", level, end=\": \")\n",
    "    remaining_prob = 100\n",
    "    start_drop_count = max(0, aux_calc(level, tier_num)-2)\n",
    "    stop_drop_count = aux_calc(level, tier_num)+1\n",
    "    for drop_count in range(start_drop_count, stop_drop_count):\n",
    "        #prob = remaining_prob // ( tier_num + level )\n",
    "        prob = prob_calc(remaining_prob, tier_num, level, drop_count - start_drop_count)\n",
    "        remaining_prob -= prob\n",
    "        print(f\"{drop_count} ({prob})\", end=\"  \")\n",
    "    print(f\"<{remaining_prob}>\")"
   ]
  },
  {
   "cell_type": "code",
   "execution_count": 249,
   "id": "1c906b22",
   "metadata": {
    "scrolled": true
   },
   "outputs": [
    {
     "data": {
      "text/plain": [
       "41"
      ]
     },
     "execution_count": 249,
     "metadata": {},
     "output_type": "execute_result"
    }
   ],
   "source": [
    "len(\"level 7: [6, 10] [7, 10] [8, 10] <70>    \")"
   ]
  },
  {
   "cell_type": "code",
   "execution_count": null,
   "id": "b7cf4e38",
   "metadata": {},
   "outputs": [],
   "source": [
    "mod"
   ]
  }
 ],
 "metadata": {
  "kernelspec": {
   "display_name": "Python 3",
   "language": "python",
   "name": "python3"
  },
  "language_info": {
   "codemirror_mode": {
    "name": "ipython",
    "version": 3
   },
   "file_extension": ".py",
   "mimetype": "text/x-python",
   "name": "python",
   "nbconvert_exporter": "python",
   "pygments_lexer": "ipython3",
   "version": "3.9.1"
  }
 },
 "nbformat": 4,
 "nbformat_minor": 5
}
