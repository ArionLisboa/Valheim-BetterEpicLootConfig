{
 "cells": [
  {
   "cell_type": "code",
   "execution_count": 2,
   "id": "e491557c",
   "metadata": {},
   "outputs": [],
   "source": [
    "import jsonc"
   ]
  },
  {
   "cell_type": "code",
   "execution_count": 3,
   "id": "a51e3780",
   "metadata": {},
   "outputs": [],
   "source": [
    "original = \"loottables_original.json\""
   ]
  },
  {
   "cell_type": "code",
   "execution_count": 49,
   "id": "f8817aa6",
   "metadata": {},
   "outputs": [],
   "source": [
    "with open(original, \"r\") as file:\n",
    "    loottable_dict = jsonc.load(file)"
   ]
  },
  {
   "cell_type": "code",
   "execution_count": 5,
   "id": "7496a08b",
   "metadata": {},
   "outputs": [
    {
     "name": "stdout",
     "output_type": "stream",
     "text": [
      "MagicEffectsCount\n",
      "RestrictedItems\n",
      "ItemSets\n",
      "LootTables\n"
     ]
    }
   ],
   "source": [
    "for key in loottable_dict:\n",
    "    print(key)"
   ]
  },
  {
   "cell_type": "markdown",
   "id": "6aa39700",
   "metadata": {},
   "source": [
    "## MagicEffectsCount Functions\n",
    "### Functions that change the ammount, and it's associated probability, of enchantments"
   ]
  },
  {
   "cell_type": "code",
   "execution_count": 6,
   "id": "0ece4d86",
   "metadata": {},
   "outputs": [],
   "source": [
    "def increase_enchant_count(n):\n",
    "    \"\"\"\n",
    "    Increases all magic effects count by n.\n",
    "    Changes probabilities only indirectly.\n",
    "    \"\"\"\n",
    "    print(\"########################## BEFORE ###########################\")\n",
    "    for rarity, probabilities in loottable_dict[\"MagicEffectsCount\"].items():\n",
    "        print(f\"\\t  {rarity}: \\t{probabilities}\")\n",
    "        for i in range(len(probabilities)):\n",
    "            probabilities[i][0] += 1\n",
    "    \n",
    "    print(\"########################## AFTER ###########################\")\n",
    "    for rarity, probabilities in loottable_dict[\"MagicEffectsCount\"].items():\n",
    "        print(f\"\\t  {rarity}: \\t{probabilities}\")\n",
    "    \n",
    "    print(\"############################################################\")\n",
    "    print(\"##################### INCREASE COUNT #######################\")\n",
    "    print(\"############################################################\")\n",
    "    print()\n",
    "    print()\n",
    "    return 1\n",
    "\n",
    "def modify_probabilities(p):\n",
    "    \"\"\"\n",
    "    Takes p away from the first entry and adds 2*p/3 and p/3 to the second and last entry, respectively\n",
    "    \"\"\"\n",
    "    print(\"########################## BEFORE ###########################\")\n",
    "    for rarity, probabilities in loottable_dict[\"MagicEffectsCount\"].items():\n",
    "        print(f\"\\t  {rarity}: \\t{probabilities}\")\n",
    "        probabilities[0][1] -= p\n",
    "        probabilities[1][1] += (p//3) * 2\n",
    "        probabilities[2][1] = 100 - probabilities[0][1] - probabilities[1][1]\n",
    "    \n",
    "    print(\"########################## AFTER ###########################\")\n",
    "    for rarity, probabilities in loottable_dict[\"MagicEffectsCount\"].items():\n",
    "        print(f\"\\t  {rarity}: \\t{probabilities}\")\n",
    "    \n",
    "    print(\"############################################################\")\n",
    "    print(\"################### MODIFY PROBABILITIES ###################\")\n",
    "    print(\"############################################################\")\n",
    "    print()\n",
    "    print()\n",
    "    return 1"
   ]
  },
  {
   "cell_type": "markdown",
   "id": "46fae20d",
   "metadata": {},
   "source": [
    "## ItemSets Functions\n",
    "### Functions that create/delete item sets"
   ]
  },
  {
   "cell_type": "markdown",
   "id": "efcf586a",
   "metadata": {},
   "source": [
    "###### Note: EpicLoot provides a setting to determine the item-to-material drop ratio. The only provided function to change item sets in this code aims to improve configuration in case you are running CLLC and want only materials dropping. In such cases, utilising solely the EpicLoot configuration, I was met with bosses trophies drop not scaling with starts. The solution was to manually change the loottables.json file."
   ]
  },
  {
   "cell_type": "code",
   "execution_count": 28,
   "id": "f509f410",
   "metadata": {},
   "outputs": [],
   "source": [
    "def only_enchanting_mats():\n",
    "    \"\"\"\n",
    "    Deletes all item sets that don't include enchanting mats\n",
    "    \"\"\"\n",
    "    item_set_index = 0\n",
    "    while item_set_index < len(loottable_dict[\"ItemSets\"]):\n",
    "        item_set = loottable_dict[\"ItemSets\"][item_set_index]\n",
    "        #print(item_set[\"Name\"], [char_seq in item_set[\"Name\"] for char_seq in [\"Mats\", \"Runestone\"]])\n",
    "        if not any([char_seq in item_set[\"Name\"] for char_seq in [\"Mats\", \"Runestone\"]]):\n",
    "            print(f\"{item_set['Name']} {' ' * (18-len(str(item_set['Name'])))} DELETED\")\n",
    "            loottable_dict[\"ItemSets\"].pop(item_set_index)\n",
    "        else:\n",
    "            item_set_index += 1"
   ]
  },
  {
   "cell_type": "code",
   "execution_count": 29,
   "id": "0080aa4c",
   "metadata": {
    "scrolled": true
   },
   "outputs": [
    {
     "name": "stdout",
     "output_type": "stream",
     "text": [
      "ModUtility          DELETED\n",
      "Tier0Weapons        DELETED\n",
      "Tier0Tools          DELETED\n",
      "Tier0Armor          DELETED\n",
      "Tier0Shields        DELETED\n",
      "Tier0Everything     DELETED\n",
      "Tier1Weapons        DELETED\n",
      "Tier1Armor          DELETED\n",
      "Tier1Tools          DELETED\n",
      "Tier1Shields        DELETED\n",
      "Tier1Everything     DELETED\n",
      "TrollArmor          DELETED\n",
      "Tier2Weapons        DELETED\n",
      "Tier2Armor          DELETED\n",
      "Tier2Shields        DELETED\n",
      "Tier2Tools          DELETED\n",
      "Tier2Everything     DELETED\n",
      "Tier3Weapons        DELETED\n",
      "Tier3Armor          DELETED\n",
      "Tier3Shields        DELETED\n",
      "Tier3Tools          DELETED\n",
      "Tier3Everything     DELETED\n",
      "Tier4Weapons        DELETED\n",
      "Tier4Armor          DELETED\n",
      "Tier4Shields        DELETED\n",
      "Tier4Everything     DELETED\n",
      "Tier5Weapons        DELETED\n",
      "Tier5Armor          DELETED\n",
      "Tier5Shields        DELETED\n",
      "Tier5Everything     DELETED\n",
      "Tier6Weapons        DELETED\n",
      "Tier6Armor          DELETED\n",
      "Tier6Shields        DELETED\n",
      "Tier6Tools          DELETED\n",
      "Tier6Everything     DELETED\n"
     ]
    }
   ],
   "source": [
    "only_enchanting_mats()"
   ]
  },
  {
   "cell_type": "code",
   "execution_count": 63,
   "id": "50793e66",
   "metadata": {},
   "outputs": [
    {
     "name": "stdout",
     "output_type": "stream",
     "text": [
      "Tier0Mats\n",
      "Tier1Mats\n",
      "Tier2Mats\n",
      "Tier3Mats\n"
     ]
    }
   ],
   "source": [
    "for mat_tier in (loottable_dict['ItemSets'][0][\"Loot\"]):\n",
    "    print(mat_tier[\"Item\"])"
   ]
  },
  {
   "cell_type": "code",
   "execution_count": 30,
   "id": "7c6b946f",
   "metadata": {
    "scrolled": true
   },
   "outputs": [
    {
     "name": "stdout",
     "output_type": "stream",
     "text": [
      "{'Name': 'EnchantingMats', 'Loot': [{'Item': 'Tier0Mats'}, {'Item': 'Tier1Mats'}, {'Item': 'Tier2Mats'}, {'Item': 'Tier3Mats'}]}\n",
      "{'Name': 'Tier0Mats', 'Loot': [{'Item': 'DustMagic'}, {'Item': 'EssenceMagic'}, {'Item': 'ReagentMagic'}]}\n",
      "{'Name': 'Tier1Mats', 'Loot': [{'Item': 'DustRare'}, {'Item': 'EssenceRare'}, {'Item': 'ReagentRare'}]}\n",
      "{'Name': 'Tier2Mats', 'Loot': [{'Item': 'DustEpic'}, {'Item': 'EssenceEpic'}, {'Item': 'ReagentEpic'}]}\n",
      "{'Name': 'Tier3Mats', 'Loot': [{'Item': 'DustLegendary'}, {'Item': 'EssenceLegendary'}, {'Item': 'ReagentLegendary'}]}\n",
      "{'Name': 'EnchantingRunestones', 'Loot': [{'Item': 'RunestoneMagic'}, {'Item': 'RunestoneRare'}, {'Item': 'RunestoneEpic'}, {'Item': 'RunestoneLegendary'}]}\n",
      "{'Name': 'Tier0Runestone', 'Loot': [{'Item': 'RunestoneMagic'}]}\n",
      "{'Name': 'Tier1Runestone', 'Loot': [{'Item': 'RunestoneRare'}]}\n",
      "{'Name': 'Tier2Runestone', 'Loot': [{'Item': 'RunestoneEpic'}]}\n",
      "{'Name': 'Tier3Runestone', 'Loot': [{'Item': 'RunestoneLegendary'}]}\n"
     ]
    }
   ],
   "source": [
    "for item_set in loottable_dict[\"ItemSets\"]:\n",
    "    print(item_set)"
   ]
  },
  {
   "cell_type": "markdown",
   "id": "1df5f12c",
   "metadata": {},
   "source": [
    "## Non-vanilla mobs"
   ]
  },
  {
   "cell_type": "code",
   "execution_count": 31,
   "id": "e9648a33",
   "metadata": {},
   "outputs": [],
   "source": [
    "def add_mob_objects():\n",
    "    \"\"\"\n",
    "    Creates mob objects for all mob ids added in the mobs_additions.txt file, each with their\n",
    "    respective tier, also defined in the file\n",
    "    \"\"\"\n",
    "    with open(\"mobs_additions.txt\", \"r\") as mobs_file:\n",
    "        for line in mobs_file:\n",
    "            PRESENT = False\n",
    "            if line[0] == \"#\" or line == \"\\n\":\n",
    "                continue\n",
    "            mob_id, tier = line.replace(\"\\n\", \"\").split()\n",
    "            for obj in  loottable_dict[\"LootTables\"]:\n",
    "                if mob_id == obj[\"Object\"]:\n",
    "                    PRESENT = True\n",
    "                    break\n",
    "            if PRESENT:\n",
    "                print(f\"{mob_id}{(20-len(mob_id)) * ' '}\\t{tier}\" + f\"{10 * ' '}\" + \"ALREADY ADDED\")\n",
    "                continue\n",
    "            print(f\"{mob_id}{(20-len(mob_id)) * ' '}\\t{tier}\", end=\" \")\n",
    "            mob_obj = {}\n",
    "            mob_obj[\"Object\"] = mob_id\n",
    "            mob_obj[\"RefObject\"] = f\"Tier{tier}Mob\"\n",
    "            loottable_dict[\"LootTables\"].insert(8, mob_obj)\n",
    "            print(mob_obj, f\"{(65-len(str(mob_obj))) * ' '}ADDED\")"
   ]
  },
  {
   "cell_type": "code",
   "execution_count": 32,
   "id": "ff12e238",
   "metadata": {
    "scrolled": true
   },
   "outputs": [
    {
     "name": "stdout",
     "output_type": "stream",
     "text": [
      "Fox_TW              \t0          ALREADY ADDED\n",
      "Razorback_TW        \t0          ALREADY ADDED\n",
      "BlackBear_TW        \t1          ALREADY ADDED\n",
      "GDAncientShaman_TW  \t1          ALREADY ADDED\n",
      "Crawler_TW          \t2          ALREADY ADDED\n",
      "HelWraith_TW        \t2          ALREADY ADDED\n",
      "RottingElk_TW       \t3          ALREADY ADDED\n",
      "GrizzlyBear_TW      \t3          ALREADY ADDED\n",
      "ObsidianGolem_TW    \t4          ALREADY ADDED\n",
      "Prowler_TW          \t4          ALREADY ADDED\n"
     ]
    }
   ],
   "source": [
    "add_mob_objects()"
   ]
  },
  {
   "cell_type": "code",
   "execution_count": 36,
   "id": "92e315d5",
   "metadata": {
    "scrolled": true
   },
   "outputs": [
    {
     "name": "stdout",
     "output_type": "stream",
     "text": [
      "Tier0Mob | Tier1Mob | Tier2Mob | Tier3Mob | \n",
      "Tier4Mob | Tier5Mob | Tier6Mob | Tier7Mob | \n",
      "Greyling | Deer | Boar | Neck | \n",
      "Fox_TW | Greydwarf | Skeleton | Razorback_TW | \n",
      "BlackBear_TW | Greydwarf_Elite | Greydwarf_Shaman | Skeleton_Poison | \n",
      "Troll | Ghost | Blob | Draugr | \n",
      "Draugr_Ranged | Leech | Surtling | GDAncientShaman_TW | \n",
      "Draugr_Elite | Abomination | Ulv | Fenring_Cultist | \n",
      "BlobElite | Wraith | Wolf | Hatchling | \n",
      "Crawler_TW | HelWraith_TW | StoneGolem | Fenring | \n",
      "Serpent | Deathsquito | Lox | Goblin | \n",
      "GoblinArcher | RottingElk_TW | GrizzlyBear_TW | GoblinBrute | \n",
      "GoblinShaman | ObsidianGolem_TW | Prowler_TW | Seeker | \n",
      "SeekerBrute | Dverger | DvergerMage | DvergerMageFire | \n",
      "DvergerMageIce | DvergerMageSupport | Gjall | Tick | \n",
      "Eikthyr | gd_king | Bonemass | Dragon | \n",
      "GoblinKing | SeekerQueen | TreasureChest_meadows | TreasureChest_blackforest | \n",
      "TreasureChest_forestcrypt | TreasureChest_fCrypt | TreasureChest_trollcave | shipwreck_karve_chest | \n",
      "TreasureChest_meadows_buried | TreasureChest_sunkencrypt | TreasureChest_swamp | TreasureChest_mountains | \n",
      "TreasureChest_mountaincave | TreasureChest_plains_stone | TreasureChest_heath | TreasureChest_dvergrtown | \n",
      "TreasureChest_dvergrtower | TreasureChest_dvergr_loose_stone | TreasureMapChest_Meadows | TreasureMapChest_BlackForest | \n",
      "TreasureMapChest_Swamp | TreasureMapChest_Mountain | TreasureMapChest_Plains | TreasureMapChest_Mistlands | "
     ]
    }
   ],
   "source": [
    "k = 0\n",
    "for mob_object in loottable_dict['LootTables']:\n",
    "    if k > 3:\n",
    "        k = 0\n",
    "        print()\n",
    "    print(mob_object['Object'], end=\" | \")\n",
    "    k += 1"
   ]
  },
  {
   "cell_type": "markdown",
   "id": "1c728494",
   "metadata": {},
   "source": [
    "## Generate Mob Loot Tables\n",
    "### Functions to generate the loot tables for mob tiers and bosses"
   ]
  },
  {
   "cell_type": "code",
   "execution_count": 50,
   "id": "9320ebea",
   "metadata": {
    "scrolled": true
   },
   "outputs": [
    {
     "name": "stdout",
     "output_type": "stream",
     "text": [
      "['Tier0Mob', 'Tier1Mob', 'Tier2Mob', 'Tier3Mob', 'Tier4Mob', 'Tier5Mob', 'Tier6Mob', 'Tier7Mob']\n"
     ]
    }
   ],
   "source": [
    "tiers = set()\n",
    "for obj in loottable_dict[\"LootTables\"]:\n",
    "    if \"RefObject\" in obj.keys():\n",
    "        tiers.add(obj[\"RefObject\"])\n",
    "tiers = list(tiers)\n",
    "tiers.sort()\n",
    "print(tiers)"
   ]
  },
  {
   "cell_type": "code",
   "execution_count": 84,
   "id": "7d7ec395",
   "metadata": {},
   "outputs": [],
   "source": [
    "import numpy as np\n",
    "\n",
    "def aux_calc(level, tier):\n",
    "    if tier == 0:\n",
    "        tier += 1\n",
    "    return int(np.log2(tier)*1.4) + int(np.log2(level)*1.9) + 1\n",
    "\n",
    "def prob_calc(total_prob, tier, level, count):\n",
    "    ret_val = 0\n",
    "    #print(total_prob)\n",
    "    if count == 2:\n",
    "        if total_prob < 0:\n",
    "            return total_prob\n",
    "        else:\n",
    "            ret_val += 1\n",
    "    try:\n",
    "        ret_val += pow(tier+1, 0.1) * abs ( total_prob / (level) )\n",
    "        return abs ( round ( ret_val ) )\n",
    "    except ZeroDivisionError:\n",
    "        ret_val += pow(tier+1, 0.1) * abs ( total_prob / (level + 1) )\n",
    "        return abs( round ( ret_val ) )\n",
    "\n",
    "def generate_mobs_loot_tables(max_star):\n",
    "    \"\"\"\n",
    "    Generate the loot tables for each mob tier based on the maximum starts fro mobs\n",
    "    \"\"\"\n",
    "    new_loottables = []\n",
    "    for tier in tiers:\n",
    "        tier_num = int(tier[4])\n",
    "        if tier_num < 3:\n",
    "            rarity = 0\n",
    "        elif tier_num < 5:\n",
    "            rarity = 1\n",
    "        else:\n",
    "            rarity = int(np.log2(tier_num+1))\n",
    "        print(f\"TIER {tier} - Rarity: {rarity}\")\n",
    "        \n",
    "        leveled_loot = []\n",
    "        \n",
    "        for level in range(1, max_star+1):\n",
    "            obj = {}\n",
    "            drops = []\n",
    "            loot = []\n",
    "            #########################################################################################\n",
    "            #                              ASSEMBLING DROPS START                                    \n",
    "            start_drop_count = max(0, aux_calc(level, tier_num)-2)\n",
    "            stop_drop_count = aux_calc(level, tier_num)+1\n",
    "            total_probability = 100\n",
    "            \n",
    "            for drop_count in range(start_drop_count, stop_drop_count):\n",
    "                drops.append([drop_count, 0])\n",
    "            #########################################################\n",
    "            while total_probability > 0:\n",
    "                for i in range(len(drops)):\n",
    "                    count = drop_count - start_drop_count\n",
    "                    probability = prob_calc(total_probability, tier_num, level, count)\n",
    "                    total_probability -= probability\n",
    "                    drops[i][1] += abs(probability)\n",
    "            #########################################################\n",
    "            if total_probability < 0:\n",
    "                for i in range(len(drops)):\n",
    "                    if drops[i][1] > 100:\n",
    "                        drops[i][1] += total_probability\n",
    "            #########################################################\n",
    "            if sum([f[1] for f in drops]) > 100:\n",
    "                drops[0][1] -= (sum([f[1] for f in drops]) - 100)\n",
    "            #########################################################\n",
    "            \n",
    "            #                                ASSEMBLING DROPS END\n",
    "            #########################################################################################\n",
    "            obj[\"Level\"] = level\n",
    "            obj[\"Drops\"] = drops\n",
    "            obj[\"Loot\"] = [{\"Item\":f\"Tier{rarity}Mats\", \"Weight\":1}]\n",
    "            leveled_loot.append(obj)\n",
    "            \n",
    "\n",
    "            print(obj)\n",
    "        new_loottables.append({\"Object\":tier, \"LeveledLoot\":leveled_loot})\n",
    "    \n",
    "    return new_loottables"
   ]
  },
  {
   "cell_type": "code",
   "execution_count": 85,
   "id": "2d87f8f5",
   "metadata": {
    "scrolled": true
   },
   "outputs": [
    {
     "name": "stdout",
     "output_type": "stream",
     "text": [
      "TIER Tier0Mob - Rarity: 0\n",
      "{'Level': 1, 'Drops': [[0, 100], [1, 0]], 'Loot': [{'Item': 'Tier0Mats', 'Weight': 1}]}\n",
      "{'Level': 2, 'Drops': [[0, 56], [1, 30], [2, 14]], 'Loot': [{'Item': 'Tier0Mats', 'Weight': 1}]}\n",
      "{'Level': 3, 'Drops': [[2, 47], [3, 32], [4, 21]], 'Loot': [{'Item': 'Tier0Mats', 'Weight': 1}]}\n",
      "{'Level': 4, 'Drops': [[2, 43], [3, 34], [4, 23]], 'Loot': [{'Item': 'Tier0Mats', 'Weight': 1}]}\n",
      "{'Level': 5, 'Drops': [[3, 40], [4, 33], [5, 27]], 'Loot': [{'Item': 'Tier0Mats', 'Weight': 1}]}\n",
      "{'Level': 6, 'Drops': [[3, 39], [4, 34], [5, 27]], 'Loot': [{'Item': 'Tier0Mats', 'Weight': 1}]}\n",
      "{'Level': 7, 'Drops': [[4, 39], [5, 32], [6, 29]], 'Loot': [{'Item': 'Tier0Mats', 'Weight': 1}]}\n",
      "{'Level': 8, 'Drops': [[4, 37], [5, 34], [6, 29]], 'Loot': [{'Item': 'Tier0Mats', 'Weight': 1}]}\n",
      "TIER Tier1Mob - Rarity: 0\n",
      "{'Level': 1, 'Drops': [[0, 92], [1, 8]], 'Loot': [{'Item': 'Tier0Mats', 'Weight': 1}]}\n",
      "{'Level': 2, 'Drops': [[0, 59], [1, 28], [2, 13]], 'Loot': [{'Item': 'Tier0Mats', 'Weight': 1}]}\n",
      "{'Level': 3, 'Drops': [[2, 48], [3, 32], [4, 20]], 'Loot': [{'Item': 'Tier0Mats', 'Weight': 1}]}\n",
      "{'Level': 4, 'Drops': [[2, 44], [3, 32], [4, 24]], 'Loot': [{'Item': 'Tier0Mats', 'Weight': 1}]}\n",
      "{'Level': 5, 'Drops': [[3, 40], [4, 34], [5, 26]], 'Loot': [{'Item': 'Tier0Mats', 'Weight': 1}]}\n",
      "{'Level': 6, 'Drops': [[3, 40], [4, 33], [5, 27]], 'Loot': [{'Item': 'Tier0Mats', 'Weight': 1}]}\n",
      "{'Level': 7, 'Drops': [[4, 38], [5, 33], [6, 29]], 'Loot': [{'Item': 'Tier0Mats', 'Weight': 1}]}\n",
      "{'Level': 8, 'Drops': [[4, 37], [5, 33], [6, 30]], 'Loot': [{'Item': 'Tier0Mats', 'Weight': 1}]}\n",
      "TIER Tier2Mob - Rarity: 0\n",
      "{'Level': 1, 'Drops': [[0, 86], [1, 13], [2, 1]], 'Loot': [{'Item': 'Tier0Mats', 'Weight': 1}]}\n",
      "{'Level': 2, 'Drops': [[1, 61], [2, 27], [3, 12]], 'Loot': [{'Item': 'Tier0Mats', 'Weight': 1}]}\n",
      "{'Level': 3, 'Drops': [[3, 49], [4, 31], [5, 20]], 'Loot': [{'Item': 'Tier0Mats', 'Weight': 1}]}\n",
      "{'Level': 4, 'Drops': [[3, 44], [4, 33], [5, 23]], 'Loot': [{'Item': 'Tier0Mats', 'Weight': 1}]}\n",
      "{'Level': 5, 'Drops': [[4, 40], [5, 34], [6, 26]], 'Loot': [{'Item': 'Tier0Mats', 'Weight': 1}]}\n",
      "{'Level': 6, 'Drops': [[4, 40], [5, 33], [6, 27]], 'Loot': [{'Item': 'Tier0Mats', 'Weight': 1}]}\n",
      "{'Level': 7, 'Drops': [[5, 39], [6, 33], [7, 28]], 'Loot': [{'Item': 'Tier0Mats', 'Weight': 1}]}\n",
      "{'Level': 8, 'Drops': [[5, 40], [6, 32], [7, 28]], 'Loot': [{'Item': 'Tier0Mats', 'Weight': 1}]}\n",
      "TIER Tier3Mob - Rarity: 1\n",
      "{'Level': 1, 'Drops': [[1, 83], [2, 16], [3, 1]], 'Loot': [{'Item': 'Tier1Mats', 'Weight': 1}]}\n",
      "{'Level': 2, 'Drops': [[2, 61], [3, 27], [4, 12]], 'Loot': [{'Item': 'Tier1Mats', 'Weight': 1}]}\n",
      "{'Level': 3, 'Drops': [[4, 49], [5, 31], [6, 20]], 'Loot': [{'Item': 'Tier1Mats', 'Weight': 1}]}\n",
      "{'Level': 4, 'Drops': [[4, 44], [5, 33], [6, 23]], 'Loot': [{'Item': 'Tier1Mats', 'Weight': 1}]}\n",
      "{'Level': 5, 'Drops': [[5, 42], [6, 33], [7, 25]], 'Loot': [{'Item': 'Tier1Mats', 'Weight': 1}]}\n",
      "{'Level': 6, 'Drops': [[5, 41], [6, 32], [7, 27]], 'Loot': [{'Item': 'Tier1Mats', 'Weight': 1}]}\n",
      "{'Level': 7, 'Drops': [[6, 38], [7, 35], [8, 27]], 'Loot': [{'Item': 'Tier1Mats', 'Weight': 1}]}\n",
      "{'Level': 8, 'Drops': [[6, 39], [7, 32], [8, 29]], 'Loot': [{'Item': 'Tier1Mats', 'Weight': 1}]}\n",
      "TIER Tier4Mob - Rarity: 1\n",
      "{'Level': 1, 'Drops': [[1, 81], [2, 18], [3, 1]], 'Loot': [{'Item': 'Tier1Mats', 'Weight': 1}]}\n",
      "{'Level': 2, 'Drops': [[2, 63], [3, 26], [4, 11]], 'Loot': [{'Item': 'Tier1Mats', 'Weight': 1}]}\n",
      "{'Level': 3, 'Drops': [[4, 50], [5, 31], [6, 19]], 'Loot': [{'Item': 'Tier1Mats', 'Weight': 1}]}\n",
      "{'Level': 4, 'Drops': [[4, 44], [5, 33], [6, 23]], 'Loot': [{'Item': 'Tier1Mats', 'Weight': 1}]}\n",
      "{'Level': 5, 'Drops': [[5, 42], [6, 34], [7, 24]], 'Loot': [{'Item': 'Tier1Mats', 'Weight': 1}]}\n",
      "{'Level': 6, 'Drops': [[5, 41], [6, 32], [7, 27]], 'Loot': [{'Item': 'Tier1Mats', 'Weight': 1}]}\n",
      "{'Level': 7, 'Drops': [[6, 38], [7, 35], [8, 27]], 'Loot': [{'Item': 'Tier1Mats', 'Weight': 1}]}\n",
      "{'Level': 8, 'Drops': [[6, 39], [7, 32], [8, 29]], 'Loot': [{'Item': 'Tier1Mats', 'Weight': 1}]}\n",
      "TIER Tier5Mob - Rarity: 2\n",
      "{'Level': 1, 'Drops': [[2, 78], [3, 21], [4, 1]], 'Loot': [{'Item': 'Tier2Mats', 'Weight': 1}]}\n",
      "{'Level': 2, 'Drops': [[3, 63], [4, 26], [5, 11]], 'Loot': [{'Item': 'Tier2Mats', 'Weight': 1}]}\n",
      "{'Level': 3, 'Drops': [[5, 50], [6, 31], [7, 19]], 'Loot': [{'Item': 'Tier2Mats', 'Weight': 1}]}\n",
      "{'Level': 4, 'Drops': [[5, 45], [6, 32], [7, 23]], 'Loot': [{'Item': 'Tier2Mats', 'Weight': 1}]}\n",
      "{'Level': 5, 'Drops': [[6, 43], [7, 32], [8, 25]], 'Loot': [{'Item': 'Tier2Mats', 'Weight': 1}]}\n",
      "{'Level': 6, 'Drops': [[6, 40], [7, 33], [8, 27]], 'Loot': [{'Item': 'Tier2Mats', 'Weight': 1}]}\n",
      "{'Level': 7, 'Drops': [[7, 38], [8, 35], [9, 27]], 'Loot': [{'Item': 'Tier2Mats', 'Weight': 1}]}\n",
      "{'Level': 8, 'Drops': [[7, 39], [8, 33], [9, 28]], 'Loot': [{'Item': 'Tier2Mats', 'Weight': 1}]}\n",
      "TIER Tier6Mob - Rarity: 2\n",
      "{'Level': 1, 'Drops': [[2, 77], [3, 22], [4, 1]], 'Loot': [{'Item': 'Tier2Mats', 'Weight': 1}]}\n",
      "{'Level': 2, 'Drops': [[3, 63], [4, 26], [5, 11]], 'Loot': [{'Item': 'Tier2Mats', 'Weight': 1}]}\n",
      "{'Level': 3, 'Drops': [[5, 50], [6, 31], [7, 19]], 'Loot': [{'Item': 'Tier2Mats', 'Weight': 1}]}\n",
      "{'Level': 4, 'Drops': [[5, 46], [6, 32], [7, 22]], 'Loot': [{'Item': 'Tier2Mats', 'Weight': 1}]}\n",
      "{'Level': 5, 'Drops': [[6, 43], [7, 32], [8, 25]], 'Loot': [{'Item': 'Tier2Mats', 'Weight': 1}]}\n",
      "{'Level': 6, 'Drops': [[6, 40], [7, 32], [8, 28]], 'Loot': [{'Item': 'Tier2Mats', 'Weight': 1}]}\n",
      "{'Level': 7, 'Drops': [[7, 39], [8, 34], [9, 27]], 'Loot': [{'Item': 'Tier2Mats', 'Weight': 1}]}\n",
      "{'Level': 8, 'Drops': [[7, 38], [8, 33], [9, 29]], 'Loot': [{'Item': 'Tier2Mats', 'Weight': 1}]}\n",
      "TIER Tier7Mob - Rarity: 3\n",
      "{'Level': 1, 'Drops': [[2, 75], [3, 24], [4, 1]], 'Loot': [{'Item': 'Tier3Mats', 'Weight': 1}]}\n",
      "{'Level': 2, 'Drops': [[3, 64], [4, 26], [5, 10]], 'Loot': [{'Item': 'Tier3Mats', 'Weight': 1}]}\n",
      "{'Level': 3, 'Drops': [[5, 50], [6, 31], [7, 19]], 'Loot': [{'Item': 'Tier3Mats', 'Weight': 1}]}\n",
      "{'Level': 4, 'Drops': [[5, 46], [6, 32], [7, 22]], 'Loot': [{'Item': 'Tier3Mats', 'Weight': 1}]}\n",
      "{'Level': 5, 'Drops': [[6, 44], [7, 31], [8, 25]], 'Loot': [{'Item': 'Tier3Mats', 'Weight': 1}]}\n",
      "{'Level': 6, 'Drops': [[6, 41], [7, 32], [8, 27]], 'Loot': [{'Item': 'Tier3Mats', 'Weight': 1}]}\n",
      "{'Level': 7, 'Drops': [[7, 40], [8, 33], [9, 27]], 'Loot': [{'Item': 'Tier3Mats', 'Weight': 1}]}\n",
      "{'Level': 8, 'Drops': [[7, 38], [8, 33], [9, 29]], 'Loot': [{'Item': 'Tier3Mats', 'Weight': 1}]}\n"
     ]
    },
    {
     "data": {
      "text/plain": [
       "[{'Object': 'Tier0Mob',\n",
       "  'LeveledLoot': [{'Level': 1,\n",
       "    'Drops': [[0, 100], [1, 0]],\n",
       "    'Loot': [{'Item': 'Tier0Mats', 'Weight': 1}]},\n",
       "   {'Level': 2,\n",
       "    'Drops': [[0, 56], [1, 30], [2, 14]],\n",
       "    'Loot': [{'Item': 'Tier0Mats', 'Weight': 1}]},\n",
       "   {'Level': 3,\n",
       "    'Drops': [[2, 47], [3, 32], [4, 21]],\n",
       "    'Loot': [{'Item': 'Tier0Mats', 'Weight': 1}]},\n",
       "   {'Level': 4,\n",
       "    'Drops': [[2, 43], [3, 34], [4, 23]],\n",
       "    'Loot': [{'Item': 'Tier0Mats', 'Weight': 1}]},\n",
       "   {'Level': 5,\n",
       "    'Drops': [[3, 40], [4, 33], [5, 27]],\n",
       "    'Loot': [{'Item': 'Tier0Mats', 'Weight': 1}]},\n",
       "   {'Level': 6,\n",
       "    'Drops': [[3, 39], [4, 34], [5, 27]],\n",
       "    'Loot': [{'Item': 'Tier0Mats', 'Weight': 1}]},\n",
       "   {'Level': 7,\n",
       "    'Drops': [[4, 39], [5, 32], [6, 29]],\n",
       "    'Loot': [{'Item': 'Tier0Mats', 'Weight': 1}]},\n",
       "   {'Level': 8,\n",
       "    'Drops': [[4, 37], [5, 34], [6, 29]],\n",
       "    'Loot': [{'Item': 'Tier0Mats', 'Weight': 1}]}]},\n",
       " {'Object': 'Tier1Mob',\n",
       "  'LeveledLoot': [{'Level': 1,\n",
       "    'Drops': [[0, 92], [1, 8]],\n",
       "    'Loot': [{'Item': 'Tier0Mats', 'Weight': 1}]},\n",
       "   {'Level': 2,\n",
       "    'Drops': [[0, 59], [1, 28], [2, 13]],\n",
       "    'Loot': [{'Item': 'Tier0Mats', 'Weight': 1}]},\n",
       "   {'Level': 3,\n",
       "    'Drops': [[2, 48], [3, 32], [4, 20]],\n",
       "    'Loot': [{'Item': 'Tier0Mats', 'Weight': 1}]},\n",
       "   {'Level': 4,\n",
       "    'Drops': [[2, 44], [3, 32], [4, 24]],\n",
       "    'Loot': [{'Item': 'Tier0Mats', 'Weight': 1}]},\n",
       "   {'Level': 5,\n",
       "    'Drops': [[3, 40], [4, 34], [5, 26]],\n",
       "    'Loot': [{'Item': 'Tier0Mats', 'Weight': 1}]},\n",
       "   {'Level': 6,\n",
       "    'Drops': [[3, 40], [4, 33], [5, 27]],\n",
       "    'Loot': [{'Item': 'Tier0Mats', 'Weight': 1}]},\n",
       "   {'Level': 7,\n",
       "    'Drops': [[4, 38], [5, 33], [6, 29]],\n",
       "    'Loot': [{'Item': 'Tier0Mats', 'Weight': 1}]},\n",
       "   {'Level': 8,\n",
       "    'Drops': [[4, 37], [5, 33], [6, 30]],\n",
       "    'Loot': [{'Item': 'Tier0Mats', 'Weight': 1}]}]},\n",
       " {'Object': 'Tier2Mob',\n",
       "  'LeveledLoot': [{'Level': 1,\n",
       "    'Drops': [[0, 86], [1, 13], [2, 1]],\n",
       "    'Loot': [{'Item': 'Tier0Mats', 'Weight': 1}]},\n",
       "   {'Level': 2,\n",
       "    'Drops': [[1, 61], [2, 27], [3, 12]],\n",
       "    'Loot': [{'Item': 'Tier0Mats', 'Weight': 1}]},\n",
       "   {'Level': 3,\n",
       "    'Drops': [[3, 49], [4, 31], [5, 20]],\n",
       "    'Loot': [{'Item': 'Tier0Mats', 'Weight': 1}]},\n",
       "   {'Level': 4,\n",
       "    'Drops': [[3, 44], [4, 33], [5, 23]],\n",
       "    'Loot': [{'Item': 'Tier0Mats', 'Weight': 1}]},\n",
       "   {'Level': 5,\n",
       "    'Drops': [[4, 40], [5, 34], [6, 26]],\n",
       "    'Loot': [{'Item': 'Tier0Mats', 'Weight': 1}]},\n",
       "   {'Level': 6,\n",
       "    'Drops': [[4, 40], [5, 33], [6, 27]],\n",
       "    'Loot': [{'Item': 'Tier0Mats', 'Weight': 1}]},\n",
       "   {'Level': 7,\n",
       "    'Drops': [[5, 39], [6, 33], [7, 28]],\n",
       "    'Loot': [{'Item': 'Tier0Mats', 'Weight': 1}]},\n",
       "   {'Level': 8,\n",
       "    'Drops': [[5, 40], [6, 32], [7, 28]],\n",
       "    'Loot': [{'Item': 'Tier0Mats', 'Weight': 1}]}]},\n",
       " {'Object': 'Tier3Mob',\n",
       "  'LeveledLoot': [{'Level': 1,\n",
       "    'Drops': [[1, 83], [2, 16], [3, 1]],\n",
       "    'Loot': [{'Item': 'Tier1Mats', 'Weight': 1}]},\n",
       "   {'Level': 2,\n",
       "    'Drops': [[2, 61], [3, 27], [4, 12]],\n",
       "    'Loot': [{'Item': 'Tier1Mats', 'Weight': 1}]},\n",
       "   {'Level': 3,\n",
       "    'Drops': [[4, 49], [5, 31], [6, 20]],\n",
       "    'Loot': [{'Item': 'Tier1Mats', 'Weight': 1}]},\n",
       "   {'Level': 4,\n",
       "    'Drops': [[4, 44], [5, 33], [6, 23]],\n",
       "    'Loot': [{'Item': 'Tier1Mats', 'Weight': 1}]},\n",
       "   {'Level': 5,\n",
       "    'Drops': [[5, 42], [6, 33], [7, 25]],\n",
       "    'Loot': [{'Item': 'Tier1Mats', 'Weight': 1}]},\n",
       "   {'Level': 6,\n",
       "    'Drops': [[5, 41], [6, 32], [7, 27]],\n",
       "    'Loot': [{'Item': 'Tier1Mats', 'Weight': 1}]},\n",
       "   {'Level': 7,\n",
       "    'Drops': [[6, 38], [7, 35], [8, 27]],\n",
       "    'Loot': [{'Item': 'Tier1Mats', 'Weight': 1}]},\n",
       "   {'Level': 8,\n",
       "    'Drops': [[6, 39], [7, 32], [8, 29]],\n",
       "    'Loot': [{'Item': 'Tier1Mats', 'Weight': 1}]}]},\n",
       " {'Object': 'Tier4Mob',\n",
       "  'LeveledLoot': [{'Level': 1,\n",
       "    'Drops': [[1, 81], [2, 18], [3, 1]],\n",
       "    'Loot': [{'Item': 'Tier1Mats', 'Weight': 1}]},\n",
       "   {'Level': 2,\n",
       "    'Drops': [[2, 63], [3, 26], [4, 11]],\n",
       "    'Loot': [{'Item': 'Tier1Mats', 'Weight': 1}]},\n",
       "   {'Level': 3,\n",
       "    'Drops': [[4, 50], [5, 31], [6, 19]],\n",
       "    'Loot': [{'Item': 'Tier1Mats', 'Weight': 1}]},\n",
       "   {'Level': 4,\n",
       "    'Drops': [[4, 44], [5, 33], [6, 23]],\n",
       "    'Loot': [{'Item': 'Tier1Mats', 'Weight': 1}]},\n",
       "   {'Level': 5,\n",
       "    'Drops': [[5, 42], [6, 34], [7, 24]],\n",
       "    'Loot': [{'Item': 'Tier1Mats', 'Weight': 1}]},\n",
       "   {'Level': 6,\n",
       "    'Drops': [[5, 41], [6, 32], [7, 27]],\n",
       "    'Loot': [{'Item': 'Tier1Mats', 'Weight': 1}]},\n",
       "   {'Level': 7,\n",
       "    'Drops': [[6, 38], [7, 35], [8, 27]],\n",
       "    'Loot': [{'Item': 'Tier1Mats', 'Weight': 1}]},\n",
       "   {'Level': 8,\n",
       "    'Drops': [[6, 39], [7, 32], [8, 29]],\n",
       "    'Loot': [{'Item': 'Tier1Mats', 'Weight': 1}]}]},\n",
       " {'Object': 'Tier5Mob',\n",
       "  'LeveledLoot': [{'Level': 1,\n",
       "    'Drops': [[2, 78], [3, 21], [4, 1]],\n",
       "    'Loot': [{'Item': 'Tier2Mats', 'Weight': 1}]},\n",
       "   {'Level': 2,\n",
       "    'Drops': [[3, 63], [4, 26], [5, 11]],\n",
       "    'Loot': [{'Item': 'Tier2Mats', 'Weight': 1}]},\n",
       "   {'Level': 3,\n",
       "    'Drops': [[5, 50], [6, 31], [7, 19]],\n",
       "    'Loot': [{'Item': 'Tier2Mats', 'Weight': 1}]},\n",
       "   {'Level': 4,\n",
       "    'Drops': [[5, 45], [6, 32], [7, 23]],\n",
       "    'Loot': [{'Item': 'Tier2Mats', 'Weight': 1}]},\n",
       "   {'Level': 5,\n",
       "    'Drops': [[6, 43], [7, 32], [8, 25]],\n",
       "    'Loot': [{'Item': 'Tier2Mats', 'Weight': 1}]},\n",
       "   {'Level': 6,\n",
       "    'Drops': [[6, 40], [7, 33], [8, 27]],\n",
       "    'Loot': [{'Item': 'Tier2Mats', 'Weight': 1}]},\n",
       "   {'Level': 7,\n",
       "    'Drops': [[7, 38], [8, 35], [9, 27]],\n",
       "    'Loot': [{'Item': 'Tier2Mats', 'Weight': 1}]},\n",
       "   {'Level': 8,\n",
       "    'Drops': [[7, 39], [8, 33], [9, 28]],\n",
       "    'Loot': [{'Item': 'Tier2Mats', 'Weight': 1}]}]},\n",
       " {'Object': 'Tier6Mob',\n",
       "  'LeveledLoot': [{'Level': 1,\n",
       "    'Drops': [[2, 77], [3, 22], [4, 1]],\n",
       "    'Loot': [{'Item': 'Tier2Mats', 'Weight': 1}]},\n",
       "   {'Level': 2,\n",
       "    'Drops': [[3, 63], [4, 26], [5, 11]],\n",
       "    'Loot': [{'Item': 'Tier2Mats', 'Weight': 1}]},\n",
       "   {'Level': 3,\n",
       "    'Drops': [[5, 50], [6, 31], [7, 19]],\n",
       "    'Loot': [{'Item': 'Tier2Mats', 'Weight': 1}]},\n",
       "   {'Level': 4,\n",
       "    'Drops': [[5, 46], [6, 32], [7, 22]],\n",
       "    'Loot': [{'Item': 'Tier2Mats', 'Weight': 1}]},\n",
       "   {'Level': 5,\n",
       "    'Drops': [[6, 43], [7, 32], [8, 25]],\n",
       "    'Loot': [{'Item': 'Tier2Mats', 'Weight': 1}]},\n",
       "   {'Level': 6,\n",
       "    'Drops': [[6, 40], [7, 32], [8, 28]],\n",
       "    'Loot': [{'Item': 'Tier2Mats', 'Weight': 1}]},\n",
       "   {'Level': 7,\n",
       "    'Drops': [[7, 39], [8, 34], [9, 27]],\n",
       "    'Loot': [{'Item': 'Tier2Mats', 'Weight': 1}]},\n",
       "   {'Level': 8,\n",
       "    'Drops': [[7, 38], [8, 33], [9, 29]],\n",
       "    'Loot': [{'Item': 'Tier2Mats', 'Weight': 1}]}]},\n",
       " {'Object': 'Tier7Mob',\n",
       "  'LeveledLoot': [{'Level': 1,\n",
       "    'Drops': [[2, 75], [3, 24], [4, 1]],\n",
       "    'Loot': [{'Item': 'Tier3Mats', 'Weight': 1}]},\n",
       "   {'Level': 2,\n",
       "    'Drops': [[3, 64], [4, 26], [5, 10]],\n",
       "    'Loot': [{'Item': 'Tier3Mats', 'Weight': 1}]},\n",
       "   {'Level': 3,\n",
       "    'Drops': [[5, 50], [6, 31], [7, 19]],\n",
       "    'Loot': [{'Item': 'Tier3Mats', 'Weight': 1}]},\n",
       "   {'Level': 4,\n",
       "    'Drops': [[5, 46], [6, 32], [7, 22]],\n",
       "    'Loot': [{'Item': 'Tier3Mats', 'Weight': 1}]},\n",
       "   {'Level': 5,\n",
       "    'Drops': [[6, 44], [7, 31], [8, 25]],\n",
       "    'Loot': [{'Item': 'Tier3Mats', 'Weight': 1}]},\n",
       "   {'Level': 6,\n",
       "    'Drops': [[6, 41], [7, 32], [8, 27]],\n",
       "    'Loot': [{'Item': 'Tier3Mats', 'Weight': 1}]},\n",
       "   {'Level': 7,\n",
       "    'Drops': [[7, 40], [8, 33], [9, 27]],\n",
       "    'Loot': [{'Item': 'Tier3Mats', 'Weight': 1}]},\n",
       "   {'Level': 8,\n",
       "    'Drops': [[7, 38], [8, 33], [9, 29]],\n",
       "    'Loot': [{'Item': 'Tier3Mats', 'Weight': 1}]}]}]"
      ]
     },
     "execution_count": 85,
     "metadata": {},
     "output_type": "execute_result"
    }
   ],
   "source": [
    "for tier in tiersgenerate_mobs_loot_tables(8)"
   ]
  },
  {
   "cell_type": "code",
   "execution_count": 289,
   "id": "9d66778b",
   "metadata": {},
   "outputs": [
    {
     "name": "stdout",
     "output_type": "stream",
     "text": [
      "level 1: 0 (7)  1 (6)  <87>\n",
      "level 2: 0 (7)  1 (6)  2 (5)  <82>\n",
      "level 3: 2 (8)  3 (7)  4 (6)  <79>\n",
      "level 4: 2 (9)  3 (7)  4 (6)  <78>\n",
      "level 5: 3 (10)  4 (8)  5 (6)  <76>\n",
      "level 6: 3 (11)  4 (8)  5 (7)  <74>\n",
      "level 7: 4 (12)  5 (9)  6 (7)  <72>\n",
      "level 8: 4 (14)  5 (10)  6 (8)  <68>\n"
     ]
    }
   ],
   "source": [
    "def prob_calc(total_prob, tier, level, count):\n",
    "    try:\n",
    "        return abs ( total_prob // (15 - level + count) )\n",
    "    except ZeroDivisionError:\n",
    "        return abs ( total_prob // (14 - level + count) )\n",
    "    \n",
    "    \n",
    "tier_num = int(tiers[1][4])\n",
    "for level in range(1, 9):\n",
    "    print(\"level\", level, end=\": \")\n",
    "    remaining_prob = 100\n",
    "    start_drop_count = max(0, aux_calc(level, tier_num)-2)\n",
    "    stop_drop_count = aux_calc(level, tier_num)+1\n",
    "    for drop_count in range(start_drop_count, stop_drop_count):\n",
    "        #prob = remaining_prob // ( tier_num + level )\n",
    "        prob = prob_calc(remaining_prob, tier_num, level, drop_count - start_drop_count)\n",
    "        remaining_prob -= prob\n",
    "        print(f\"{drop_count} ({prob})\", end=\"  \")\n",
    "    print(f\"<{remaining_prob}>\")"
   ]
  },
  {
   "cell_type": "code",
   "execution_count": 249,
   "id": "1c906b22",
   "metadata": {
    "scrolled": true
   },
   "outputs": [
    {
     "data": {
      "text/plain": [
       "41"
      ]
     },
     "execution_count": 249,
     "metadata": {},
     "output_type": "execute_result"
    }
   ],
   "source": [
    "len(\"level 7: [6, 10] [7, 10] [8, 10] <70>    \")"
   ]
  },
  {
   "cell_type": "code",
   "execution_count": null,
   "id": "9b4ccf06",
   "metadata": {},
   "outputs": [],
   "source": [
    "mod"
   ]
  }
 ],
 "metadata": {
  "kernelspec": {
   "display_name": "Python 3",
   "language": "python",
   "name": "python3"
  },
  "language_info": {
   "codemirror_mode": {
    "name": "ipython",
    "version": 3
   },
   "file_extension": ".py",
   "mimetype": "text/x-python",
   "name": "python",
   "nbconvert_exporter": "python",
   "pygments_lexer": "ipython3",
   "version": "3.9.1"
  }
 },
 "nbformat": 4,
 "nbformat_minor": 5
}
