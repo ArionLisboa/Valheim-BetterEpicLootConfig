{
 "cells": [
  {
   "cell_type": "code",
   "execution_count": 3,
   "id": "e491557c",
   "metadata": {},
   "outputs": [],
   "source": [
    "import jsonc"
   ]
  },
  {
   "cell_type": "code",
   "execution_count": 4,
   "id": "a51e3780",
   "metadata": {},
   "outputs": [],
   "source": [
    "original = \"loottables_original.json\""
   ]
  },
  {
   "cell_type": "code",
   "execution_count": 5,
   "id": "f8817aa6",
   "metadata": {},
   "outputs": [],
   "source": [
    "with open(original, \"r\") as file:\n",
    "    loottable_dict = jsonc.load(file)"
   ]
  },
  {
   "cell_type": "code",
   "execution_count": 6,
   "id": "7496a08b",
   "metadata": {},
   "outputs": [
    {
     "name": "stdout",
     "output_type": "stream",
     "text": [
      "MagicEffectsCount\n",
      "RestrictedItems\n",
      "ItemSets\n",
      "LootTables\n"
     ]
    }
   ],
   "source": [
    "for key in loottable_dict:\n",
    "    print(key)"
   ]
  },
  {
   "cell_type": "markdown",
   "id": "6aa39700",
   "metadata": {},
   "source": [
    "## MagicEffectsCount Functions\n",
    "### Functions that change the ammount, and it's associated probability, of enchantments"
   ]
  },
  {
   "cell_type": "code",
   "execution_count": 7,
   "id": "0ece4d86",
   "metadata": {},
   "outputs": [],
   "source": [
    "def increase_enchant_count(n):\n",
    "    \"\"\"\n",
    "    Increases all magic effects count by n.\n",
    "    Changes probabilities only indirectly.\n",
    "    \"\"\"\n",
    "    print(\"########################## BEFORE ###########################\")\n",
    "    for rarity, probabilities in loottable_dict[\"MagicEffectsCount\"].items():\n",
    "        print(f\"\\t  {rarity}: \\t{probabilities}\")\n",
    "        for i in range(len(probabilities)):\n",
    "            probabilities[i][0] += 1\n",
    "    \n",
    "    print(\"########################## AFTER ###########################\")\n",
    "    for rarity, probabilities in loottable_dict[\"MagicEffectsCount\"].items():\n",
    "        print(f\"\\t  {rarity}: \\t{probabilities}\")\n",
    "    \n",
    "    print(\"############################################################\")\n",
    "    print(\"##################### INCREASE COUNT #######################\")\n",
    "    print(\"############################################################\")\n",
    "    print()\n",
    "    print()\n",
    "    return 1\n",
    "\n",
    "def modify_probabilities(p):\n",
    "    \"\"\"\n",
    "    Takes p away from the first entry and adds 2*p/3 and p/3 to the second and last entry, respectively\n",
    "    \"\"\"\n",
    "    print(\"########################## BEFORE ###########################\")\n",
    "    for rarity, probabilities in loottable_dict[\"MagicEffectsCount\"].items():\n",
    "        print(f\"\\t  {rarity}: \\t{probabilities}\")\n",
    "        probabilities[0][1] -= p\n",
    "        probabilities[1][1] += (p//3) * 2\n",
    "        probabilities[2][1] = 100 - probabilities[0][1] - probabilities[1][1]\n",
    "    \n",
    "    print(\"########################## AFTER ###########################\")\n",
    "    for rarity, probabilities in loottable_dict[\"MagicEffectsCount\"].items():\n",
    "        print(f\"\\t  {rarity}: \\t{probabilities}\")\n",
    "    \n",
    "    print(\"############################################################\")\n",
    "    print(\"################### MODIFY PROBABILITIES ###################\")\n",
    "    print(\"############################################################\")\n",
    "    print()\n",
    "    print()\n",
    "    return 1"
   ]
  },
  {
   "cell_type": "markdown",
   "id": "46fae20d",
   "metadata": {},
   "source": [
    "## ItemSets Functions\n",
    "### Functions that create/delete item sets"
   ]
  },
  {
   "cell_type": "markdown",
   "id": "efcf586a",
   "metadata": {},
   "source": [
    "###### Note: EpicLoot provides a setting to determine the item-to-material drop ratio. The only provided function to change item sets in this code aims to improve configuration in case you are running CLLC and want only materials dropping. In such cases, utilising solely the EpicLoot configuration, I was met with bosses trophies drop not scaling with starts. The solution was to manually change the loottables.json file."
   ]
  },
  {
   "cell_type": "code",
   "execution_count": 8,
   "id": "f509f410",
   "metadata": {},
   "outputs": [],
   "source": [
    "def only_enchanting_mats():\n",
    "    \"\"\"\n",
    "    Deletes all item sets that don't include enchanting mats\n",
    "    \"\"\"\n",
    "    item_set_index = 0\n",
    "    while item_set_index < len(loottable_dict[\"ItemSets\"]):\n",
    "        item_set = loottable_dict[\"ItemSets\"][item_set_index]\n",
    "        #print(item_set[\"Name\"], [char_seq in item_set[\"Name\"] for char_seq in [\"Mats\", \"Runestone\"]])\n",
    "        if not any([char_seq in item_set[\"Name\"] for char_seq in [\"Mats\", \"Runestone\"]]):\n",
    "            print(item_set[\"Name\"], \"Deleted\")\n",
    "            loottable_dict[\"ItemSets\"].pop(item_set_index)\n",
    "        else:\n",
    "            item_set_index += 1"
   ]
  },
  {
   "cell_type": "markdown",
   "id": "1df5f12c",
   "metadata": {},
   "source": [
    "## Non-vanilla mobs"
   ]
  },
  {
   "cell_type": "code",
   "execution_count": 9,
   "id": "e9648a33",
   "metadata": {},
   "outputs": [],
   "source": [
    "def add_mob_objects():\n",
    "    \"\"\"\n",
    "    Creates mob objects for all mob ids added in the mobs_additions.txt file, each with their\n",
    "    respective tier, also defined in the file\n",
    "    \"\"\"\n",
    "    with open(\"mobs_additions.txt\", \"r\") as mobs_file:\n",
    "        for line in mobs_file:\n",
    "            if line[0] == \"#\" or line == \"\\n\":\n",
    "                continue\n",
    "            mob_id, tier = line.replace(\"\\n\", \"\").split()\n",
    "            print(f\"{mob_id}{(20-len(mob_id)) * ' '}\\t{tier}\", end=\" \")\n",
    "            mob_obj = {}\n",
    "            mob_obj[\"Object\"] = mob_id\n",
    "            mob_obj[\"RefObject\"] = f\"Tier{tier}Mob\"\n",
    "            loottable_dict[\"LootTables\"].insert(8, mob_obj)\n",
    "            print(mob_obj, f\"{(65-len(str(mob_obj))) * ' '}ADDED\")"
   ]
  },
  {
   "cell_type": "markdown",
   "id": "1c728494",
   "metadata": {},
   "source": [
    "## Generate Mob Loot Tables\n",
    "### Functions to generate the loot tables for mob tiers and bosses"
   ]
  },
  {
   "cell_type": "code",
   "execution_count": 97,
   "id": "9ca845c9",
   "metadata": {},
   "outputs": [
    {
     "name": "stdout",
     "output_type": "stream",
     "text": [
      "{'Object': 'Tier0Mob', 'LeveledLoot': [{'Level': 1, 'Drops': [[0, 100]], 'Loot': [{'Item': 'Tier0Everything', 'Weight': 1, 'Rarity': [100, 0, 0, 0]}]}, {'Level': 2, 'Drops': [[0, 95], [1, 5]], 'Loot': [{'Item': 'Tier0Everything', 'Weight': 1, 'Rarity': [95, 5, 0, 0]}]}, {'Level': 3, 'Drops': [[0, 90], [1, 10]], 'Loot': [{'Item': 'Tier0Everything', 'Weight': 1, 'Rarity': [90, 10, 0, 0]}]}, {'Level': 4, 'Drops': [[0, 80], [1, 20]], 'Loot': [{'Item': 'Tier0Everything', 'Weight': 1, 'Rarity': [80, 15, 5, 0]}]}, {'Level': 5, 'Drops': [[0, 70], [1, 30]], 'Loot': [{'Item': 'Tier0Everything', 'Weight': 1, 'Rarity': [70, 19, 10, 1]}]}, {'Level': 6, 'Drops': [[0, 60], [1, 39], [2, 1]], 'Loot': [{'Item': 'Tier0Everything', 'Weight': 1, 'Rarity': [60, 20, 15, 5]}]}, {'Level': 7, 'Drops': [[0, 60], [1, 39], [2, 1]], 'Loot': [{'Item': 'Tier0Everything', 'Weight': 1, 'Rarity': [60, 20, 15, 5]}]}, {'Level': 8, 'Drops': [[0, 60], [1, 39], [2, 1]], 'Loot': [{'Item': 'Tier0Everything', 'Weight': 1, 'Rarity': [60, 20, 15, 5]}]}]}\n"
     ]
    }
   ],
   "source": [
    "for b in loottable_dict[\"LootTables\"][:1]:\n",
    "    print(b)"
   ]
  },
  {
   "cell_type": "code",
   "execution_count": 10,
   "id": "9320ebea",
   "metadata": {
    "scrolled": true
   },
   "outputs": [
    {
     "name": "stdout",
     "output_type": "stream",
     "text": [
      "['Tier0Mob', 'Tier1Mob', 'Tier2Mob', 'Tier3Mob', 'Tier4Mob', 'Tier5Mob', 'Tier6Mob', 'Tier7Mob']\n"
     ]
    }
   ],
   "source": [
    "tiers = set()\n",
    "for obj in loottable_dict[\"LootTables\"]:\n",
    "    if \"RefObject\" in obj.keys():\n",
    "        tiers.add(obj[\"RefObject\"])\n",
    "tiers = list(tiers)\n",
    "tiers.sort()\n",
    "print(tiers)"
   ]
  },
  {
   "cell_type": "code",
   "execution_count": 285,
   "id": "7d7ec395",
   "metadata": {},
   "outputs": [],
   "source": [
    "import numpy as np\n",
    "\n",
    "def aux_calc(level, tier):\n",
    "    if tier == 0:\n",
    "        tier += 1\n",
    "    return int(np.log2(tier)*1.2) + int(np.log2(level)*1.4) + 1\n",
    "    \n",
    "def generate_mobs_loot_tables(max_star):\n",
    "    \"\"\"\n",
    "    Generate the loot tables for each mob tier based on the maximum starts fro mobs\n",
    "    \"\"\"\n",
    "    for tier in tiers:\n",
    "        tier_num = int(tier[4])\n",
    "        print(f\"TIER {tier}\")\n",
    "        leveled_loot = []\n",
    "        for level in range(1, max_star+1):\n",
    "            print(\"level\", level, end=\": \")\n",
    "            level_loot_obj = {}\n",
    "            level_drops = []\n",
    "            for drop_count in range(max(0, aux_calc(level, tier_num)-2), aux_calc(level, tier_num)+1):      \n",
    "                print(f\"{drop_count}\", end=\" \")\n",
    "            print()"
   ]
  },
  {
   "cell_type": "code",
   "execution_count": 286,
   "id": "2d87f8f5",
   "metadata": {},
   "outputs": [
    {
     "name": "stdout",
     "output_type": "stream",
     "text": [
      "TIER Tier0Mob\n",
      "level 1: 0 1 \n",
      "level 2: 0 1 2 \n",
      "level 3: 1 2 3 \n",
      "level 4: 1 2 3 \n",
      "level 5: 2 3 4 \n",
      "level 6: 2 3 4 \n",
      "level 7: 2 3 4 \n",
      "level 8: 3 4 5 \n",
      "TIER Tier1Mob\n",
      "level 1: 0 1 \n",
      "level 2: 0 1 2 \n",
      "level 3: 1 2 3 \n",
      "level 4: 1 2 3 \n",
      "level 5: 2 3 4 \n",
      "level 6: 2 3 4 \n",
      "level 7: 2 3 4 \n",
      "level 8: 3 4 5 \n",
      "TIER Tier2Mob\n",
      "level 1: 0 1 2 \n",
      "level 2: 1 2 3 \n",
      "level 3: 2 3 4 \n",
      "level 4: 2 3 4 \n",
      "level 5: 3 4 5 \n",
      "level 6: 3 4 5 \n",
      "level 7: 3 4 5 \n",
      "level 8: 4 5 6 \n",
      "TIER Tier3Mob\n",
      "level 1: 0 1 2 \n",
      "level 2: 1 2 3 \n",
      "level 3: 2 3 4 \n",
      "level 4: 2 3 4 \n",
      "level 5: 3 4 5 \n",
      "level 6: 3 4 5 \n",
      "level 7: 3 4 5 \n",
      "level 8: 4 5 6 \n",
      "TIER Tier4Mob\n",
      "level 1: 1 2 3 \n",
      "level 2: 2 3 4 \n",
      "level 3: 3 4 5 \n",
      "level 4: 3 4 5 \n",
      "level 5: 4 5 6 \n",
      "level 6: 4 5 6 \n",
      "level 7: 4 5 6 \n",
      "level 8: 5 6 7 \n",
      "TIER Tier5Mob\n",
      "level 1: 1 2 3 \n",
      "level 2: 2 3 4 \n",
      "level 3: 3 4 5 \n",
      "level 4: 3 4 5 \n",
      "level 5: 4 5 6 \n",
      "level 6: 4 5 6 \n",
      "level 7: 4 5 6 \n",
      "level 8: 5 6 7 \n",
      "TIER Tier6Mob\n",
      "level 1: 2 3 4 \n",
      "level 2: 3 4 5 \n",
      "level 3: 4 5 6 \n",
      "level 4: 4 5 6 \n",
      "level 5: 5 6 7 \n",
      "level 6: 5 6 7 \n",
      "level 7: 5 6 7 \n",
      "level 8: 6 7 8 \n",
      "TIER Tier7Mob\n",
      "level 1: 2 3 4 \n",
      "level 2: 3 4 5 \n",
      "level 3: 4 5 6 \n",
      "level 4: 4 5 6 \n",
      "level 5: 5 6 7 \n",
      "level 6: 5 6 7 \n",
      "level 7: 5 6 7 \n",
      "level 8: 6 7 8 \n"
     ]
    }
   ],
   "source": [
    "generate_mobs_loot_tables(8)"
   ]
  },
  {
   "cell_type": "code",
   "execution_count": 216,
   "id": "9d66778b",
   "metadata": {},
   "outputs": [
    {
     "name": "stdout",
     "output_type": "stream",
     "text": [
      "level 1: 0\n",
      "level 2: 1\n",
      "level 3: 2\n",
      "level 4: 3\n",
      "level 5: 3\n",
      "level 6: 4\n",
      "level 7: 4\n",
      "level 8: 4\n"
     ]
    }
   ],
   "source": [
    "for i in range(1, 9):\n",
    "    print(f\"level {i}:\", end=\" \")\n",
    "    if i == 1:\n",
    "        a = abs(np.log2(i))\n",
    "        print(int(a))\n",
    "    else:\n",
    "        a = abs(0.9 - (np.log2(i) - np.log2(i-1)))\n",
    "        #print(a, end=\" \")\n",
    "        a *= 6\n",
    "        print(round(a))"
   ]
  },
  {
   "cell_type": "code",
   "execution_count": 106,
   "id": "1c906b22",
   "metadata": {},
   "outputs": [
    {
     "name": "stdout",
     "output_type": "stream",
     "text": [
      "{'Level': 1, 'Drops': [[0, 100]], 'Loot': [{'Item': 'Tier0Everything', 'Weight': 1, 'Rarity': [100, 0, 0, 0]}]}\n",
      "{'Level': 2, 'Drops': [[0, 95], [1, 5]], 'Loot': [{'Item': 'Tier0Everything', 'Weight': 1, 'Rarity': [95, 5, 0, 0]}]}\n",
      "{'Level': 3, 'Drops': [[0, 90], [1, 10]], 'Loot': [{'Item': 'Tier0Everything', 'Weight': 1, 'Rarity': [90, 10, 0, 0]}]}\n",
      "{'Level': 4, 'Drops': [[0, 80], [1, 20]], 'Loot': [{'Item': 'Tier0Everything', 'Weight': 1, 'Rarity': [80, 15, 5, 0]}]}\n",
      "{'Level': 5, 'Drops': [[0, 70], [1, 30]], 'Loot': [{'Item': 'Tier0Everything', 'Weight': 1, 'Rarity': [70, 19, 10, 1]}]}\n",
      "{'Level': 6, 'Drops': [[0, 60], [1, 39], [2, 1]], 'Loot': [{'Item': 'Tier0Everything', 'Weight': 1, 'Rarity': [60, 20, 15, 5]}]}\n",
      "{'Level': 7, 'Drops': [[0, 60], [1, 39], [2, 1]], 'Loot': [{'Item': 'Tier0Everything', 'Weight': 1, 'Rarity': [60, 20, 15, 5]}]}\n",
      "{'Level': 8, 'Drops': [[0, 60], [1, 39], [2, 1]], 'Loot': [{'Item': 'Tier0Everything', 'Weight': 1, 'Rarity': [60, 20, 15, 5]}]}\n"
     ]
    }
   ],
   "source": [
    "for lotable in loottable_dict[\"LootTables\"][:1]:\n",
    "    for level in lotable[\"LeveledLoot\"]:\n",
    "        print(level)"
   ]
  }
 ],
 "metadata": {
  "kernelspec": {
   "display_name": "Python 3",
   "language": "python",
   "name": "python3"
  },
  "language_info": {
   "codemirror_mode": {
    "name": "ipython",
    "version": 3
   },
   "file_extension": ".py",
   "mimetype": "text/x-python",
   "name": "python",
   "nbconvert_exporter": "python",
   "pygments_lexer": "ipython3",
   "version": "3.9.1"
  }
 },
 "nbformat": 4,
 "nbformat_minor": 5
}
